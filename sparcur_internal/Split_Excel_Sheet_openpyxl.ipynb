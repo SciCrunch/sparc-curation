{
  "nbformat": 4,
  "nbformat_minor": 0,
  "metadata": {
    "colab": {
      "provenance": [],
      "gpuType": "T4"
    },
    "kernelspec": {
      "name": "python3",
      "display_name": "Python 3"
    },
    "language_info": {
      "name": "python"
    },
    "accelerator": "GPU",
    "gpuClass": "standard"
  },
  "cells": [
    {
      "cell_type": "code",
      "execution_count": 1,
      "metadata": {
        "colab": {
          "base_uri": "https://localhost:8080/"
        },
        "id": "vp5jgkOPZOWG",
        "outputId": "9064ada2-cbab-43fb-c353-566792ca1af6"
      },
      "outputs": [
        {
          "output_type": "stream",
          "name": "stdout",
          "text": [
            "Mounted at /content/drive\n",
            "/content/drive/My Drive/FDI/SPARC\n"
          ]
        }
      ],
      "source": [
        "from google.colab import drive\n",
        "drive.mount('/content/drive')\n",
        "\n",
        "\n",
        "%cd /content/drive/My Drive/FDI/SPARC/ "
      ]
    },
    {
      "cell_type": "code",
      "source": [
        "%ls"
      ],
      "metadata": {
        "colab": {
          "base_uri": "https://localhost:8080/"
        },
        "id": "BxdU21jfZXF-",
        "outputId": "70f21763-e9cd-402f-ec52-db7bd73403f1"
      },
      "execution_count": 2,
      "outputs": [
        {
          "output_type": "stream",
          "name": "stdout",
          "text": [
            "\u001b[0m\u001b[01;34mData\u001b[0m/  error_log.txt  \u001b[01;34mnew_data\u001b[0m/  \u001b[01;34mnew_data_2\u001b[0m/  Split_Excel_Sheet.ipynb\n"
          ]
        }
      ]
    },
    {
      "cell_type": "code",
      "source": [
        "import os\n",
        "import glob\n",
        "import openpyxl\n",
        "import time\n",
        "\n",
        "# Define the path to the root directory containing the files\n",
        "root_directory = \"Data/Ussing chamber experiments for distension evoked secretion in human colon\"\n",
        "\n",
        "# Define the path to the new directory where the split files will be saved\n",
        "new_directory = \"new_data_2/Ussing chamber experiments for distension evoked secretion in human colon\"\n",
        "\n",
        "log_file = \"error_log.txt\"\n",
        "count = 0\n",
        "\n",
        "# Get all Excel files in the root directory using glob\n",
        "excel_files = glob.glob(os.path.join(root_directory, \"**/*.xlsx\"), recursive=True)\n",
        "\n",
        "# Iterate over each Excel file\n",
        "for file_path in excel_files:\n",
        "    try:\n",
        "        count += 1\n",
        "        # Load the Excel file\n",
        "        excel_file = openpyxl.load_workbook(file_path, read_only=True)\n",
        "        \n",
        "        # Get the sheet names\n",
        "        sheet_names = excel_file.sheetnames\n",
        "        \n",
        "        # Iterate over each sheet and save it as a separate file\n",
        "        for sheet_name in sheet_names:\n",
        "            # Get the original sheet\n",
        "            original_sheet = excel_file[sheet_name]\n",
        "            \n",
        "            # Create the new directory path based on the file's location\n",
        "            new_dir_path = os.path.join(new_directory, os.path.relpath(os.path.dirname(file_path), root_directory))\n",
        "            \n",
        "            # Create the new directory if it doesn't exist\n",
        "            os.makedirs(new_dir_path, exist_ok=True)\n",
        "            \n",
        "            # Create a new Excel file with the sheet name as the file name\n",
        "            new_file_name = f\"{sheet_name}.xlsx\"\n",
        "            new_file_path = os.path.join(new_dir_path, new_file_name)\n",
        "            \n",
        "            # Copy the original sheet to a new workbook\n",
        "            new_workbook = openpyxl.Workbook()\n",
        "            new_sheet = new_workbook.active\n",
        "            new_sheet.title = sheet_name\n",
        "            \n",
        "            for row in original_sheet.iter_rows(values_only=True):\n",
        "                new_sheet.append(row)\n",
        "            \n",
        "            # Save the new Workbook as a new Excel file\n",
        "            new_workbook.save(new_file_path)\n",
        "        \n",
        "        print(f\"Count: {count}\")\n",
        "    except Exception as e:\n",
        "        # Log the error in the log file\n",
        "        with open(log_file, \"a\") as f:\n",
        "            f.write(f\"Error opening file: {file_path}\\n\")\n",
        "            f.write(f\"Error message: {str(e)}\\n\")\n",
        "        continue\n",
        "\n",
        "\n",
        "end_time = time.time()\n",
        "run_time = end_time - start_time\n",
        "print(f\"Runtime: {run_time} seconds\")"
      ],
      "metadata": {
        "colab": {
          "base_uri": "https://localhost:8080/"
        },
        "id": "XMWKorqucHvQ",
        "outputId": "a9f8c1d7-6b2b-4ace-d4f9-7f5f6612e009"
      },
      "execution_count": null,
      "outputs": [
        {
          "output_type": "stream",
          "name": "stdout",
          "text": [
            "Count: 1\n",
            "Count: 2\n",
            "Count: 3\n",
            "Count: 4\n",
            "Count: 5\n",
            "Count: 6\n",
            "Count: 7\n",
            "Count: 8\n",
            "Count: 9\n",
            "Count: 10\n",
            "Count: 11\n",
            "Count: 13\n",
            "Count: 14\n",
            "Count: 15\n",
            "Count: 16\n",
            "Count: 17\n",
            "Count: 18\n",
            "Count: 19\n",
            "Count: 20\n",
            "Count: 21\n",
            "Count: 22\n",
            "Count: 23\n",
            "Count: 24\n",
            "Count: 25\n",
            "Count: 26\n",
            "Count: 27\n",
            "Count: 28\n",
            "Count: 29\n",
            "Count: 30\n",
            "Count: 31\n"
          ]
        }
      ]
    },
    {
      "cell_type": "code",
      "source": [],
      "metadata": {
        "id": "vneDUp8wdD0p"
      },
      "execution_count": null,
      "outputs": []
    }
  ]
}